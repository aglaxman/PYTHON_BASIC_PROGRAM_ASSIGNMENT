{
 "cells": [
  {
   "cell_type": "code",
   "execution_count": 21,
   "metadata": {},
   "outputs": [
    {
     "name": "stdout",
     "output_type": "stream",
     "text": [
      "sum of all elements in list is: 10\n"
     ]
    }
   ],
   "source": [
    "# qn=1\n",
    "from math import *\n",
    "l=[1,2,3,4]\n",
    "print('sum of all elements in list is:',sum(l))\n"
   ]
  },
  {
   "cell_type": "code",
   "execution_count": 20,
   "metadata": {},
   "outputs": [
    {
     "name": "stdout",
     "output_type": "stream",
     "text": [
      "multiple of all numbers in list is : 24\n"
     ]
    }
   ],
   "source": [
    "# qn=2\n",
    "from math import *\n",
    "l=[1,2,3,4]\n",
    "\n",
    "print('multiple of all numbers in list is :',prod(l))"
   ]
  },
  {
   "cell_type": "code",
   "execution_count": 19,
   "metadata": {},
   "outputs": [
    {
     "name": "stdout",
     "output_type": "stream",
     "text": [
      "smallest element is:  1\n"
     ]
    }
   ],
   "source": [
    "# qn=3\n",
    "from math import *\n",
    "l=[1,2,3,4]\n",
    "\n",
    "print('smallest element is: ',min(l))\n"
   ]
  },
  {
   "cell_type": "code",
   "execution_count": 18,
   "metadata": {},
   "outputs": [
    {
     "name": "stdout",
     "output_type": "stream",
     "text": [
      "largest element is : 4\n"
     ]
    }
   ],
   "source": [
    "# qn=4\n",
    "from math import *\n",
    "l=[1,2,3,4]\n",
    "\n",
    "print('largest element is :',max(l))"
   ]
  },
  {
   "cell_type": "code",
   "execution_count": 22,
   "metadata": {},
   "outputs": [
    {
     "name": "stdout",
     "output_type": "stream",
     "text": [
      "second largest element is : 3\n"
     ]
    }
   ],
   "source": [
    "# qn=5\n",
    "l=[1,2,3,4]\n",
    "l2=list(set(l))\n",
    "l2.sort()\n",
    "print('second largest element is :',l2[-2])"
   ]
  },
  {
   "cell_type": "code",
   "execution_count": 30,
   "metadata": {},
   "outputs": [
    {
     "name": "stdout",
     "output_type": "stream",
     "text": [
      "Nth largest element : 11\n",
      "[3, 7, 9, 9, 22, 24, 43, 44, 70, 74]\n"
     ]
    }
   ],
   "source": [
    "# qn=6\n",
    "l=[9,70,3,44,7,22,9,74,43,24]\n",
    "n=int(input(\"enter the nth number\"))\n",
    "print('Nth largest element :',n)\n",
    "l.sort()\n",
    "print(l[-n:])"
   ]
  },
  {
   "cell_type": "code",
   "execution_count": 9,
   "metadata": {},
   "outputs": [
    {
     "name": "stdout",
     "output_type": "stream",
     "text": [
      "2\n",
      "4\n",
      "6\n",
      "8\n",
      "10\n"
     ]
    }
   ],
   "source": [
    "# qn=7\n",
    "l=[1,2,3,4,5,6,7,8,9,10]\n",
    "for i in l:\n",
    "    if i%2==0:\n",
    "       print(i)"
   ]
  },
  {
   "cell_type": "code",
   "execution_count": 23,
   "metadata": {},
   "outputs": [
    {
     "name": "stdout",
     "output_type": "stream",
     "text": [
      "1\n",
      "3\n",
      "5\n",
      "7\n",
      "9\n"
     ]
    }
   ],
   "source": [
    "# qn=8\n",
    "l=[1,2,3,4,5,6,7,8,9,10]\n",
    "for i in l:\n",
    "    if i%2!=0:\n",
    "       print(i)"
   ]
  },
  {
   "cell_type": "code",
   "execution_count": 24,
   "metadata": {},
   "outputs": [
    {
     "name": "stdout",
     "output_type": "stream",
     "text": [
      "orginal list : \n",
      "[[], 'a', [], 'b', 'c', []]\n",
      "after deleting the empty list from list :\n",
      "['a', 'b', 'c']\n"
     ]
    }
   ],
   "source": [
    "# qn=9\n",
    "l=[[],'a',[],'b','c',[]]\n",
    "print('orginal list : ' )\n",
    "print(l)\n",
    "print('after deleting the empty list from list :')\n",
    "l2=[x for x in l if x]\n",
    "print(l2)\n"
   ]
  },
  {
   "cell_type": "code",
   "execution_count": 31,
   "metadata": {},
   "outputs": [
    {
     "name": "stdout",
     "output_type": "stream",
     "text": [
      "original list : [2, 4, 6, 8, 6, 5, 4]\n",
      "copied list : [2, 4, 6, 8, 6, 5, 4]\n"
     ]
    }
   ],
   "source": [
    "# qn=10\n",
    "def copying(l):\n",
    "    l_copy=l[:]\n",
    "    return l_copy\n",
    "\n",
    "l=[2,4,6,8,6,5,4]\n",
    "l2=copying(l)\n",
    "\n",
    "print('original list :',l)\n",
    "print('copied list :', l2)"
   ]
  },
  {
   "cell_type": "code",
   "execution_count": 34,
   "metadata": {},
   "outputs": [
    {
     "name": "stdout",
     "output_type": "stream",
     "text": [
      "3\n"
     ]
    }
   ],
   "source": [
    "# qn=11\n",
    "l=[1,2,3,4,1,1,2,3,4]\n",
    "occ=l.count(1)\n",
    "print(occ)"
   ]
  }
 ],
 "metadata": {
  "kernelspec": {
   "display_name": "Python 3",
   "language": "python",
   "name": "python3"
  },
  "language_info": {
   "codemirror_mode": {
    "name": "ipython",
    "version": 3
   },
   "file_extension": ".py",
   "mimetype": "text/x-python",
   "name": "python",
   "nbconvert_exporter": "python",
   "pygments_lexer": "ipython3",
   "version": "3.10.11"
  },
  "orig_nbformat": 4
 },
 "nbformat": 4,
 "nbformat_minor": 2
}
