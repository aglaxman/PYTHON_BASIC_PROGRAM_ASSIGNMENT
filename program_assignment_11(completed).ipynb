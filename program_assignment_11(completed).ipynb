{
 "cells": [
  {
   "cell_type": "code",
   "execution_count": 6,
   "metadata": {},
   "outputs": [
    {
     "name": "stdout",
     "output_type": "stream",
     "text": [
      "['this', 'python', 'program', 'find', 'length', 'words', 'greater', 'then']\n"
     ]
    }
   ],
   "source": [
    "# qn=1\n",
    "def string_k(k,str):\n",
    "    string=[]\n",
    "    text=str.split(' ')\n",
    "\n",
    "    for x in text:\n",
    "\n",
    "        if len(x)>k:\n",
    "            string.append(x)\n",
    "    return string\n",
    "\n",
    "k=3\n",
    "str='hey this python program to find length of words greater then 3'\n",
    "print(string_k(k,str))\n"
   ]
  },
  {
   "cell_type": "code",
   "execution_count": 11,
   "metadata": {},
   "outputs": [
    {
     "name": "stdout",
     "output_type": "stream",
     "text": [
      " FSDS .0 BATCH \n"
     ]
    }
   ],
   "source": [
    "# qn=2\n",
    "str='FSDS 2.0 BATCH '\n",
    "new_str=\" \"\n",
    "ith=int(input('Enter ith element'))\n",
    "for i in range(len(str)):\n",
    "    if i!=ith:\n",
    "        new_str=new_str + str[i]\n",
    "\n",
    "print(new_str)"
   ]
  },
  {
   "cell_type": "code",
   "execution_count": 20,
   "metadata": {},
   "outputs": [
    {
     "name": "stdout",
     "output_type": "stream",
     "text": [
      "splited string is = ['joining', 'and', 'spliting', 'of', 'string']\n",
      "joined string is = joiningandsplitingofstring\n"
     ]
    }
   ],
   "source": [
    "# qn=3\n",
    "sen='joining and spliting of string'\n",
    "a= sen.split()\n",
    "sen1=a\n",
    "b=''.join(sen1)\n",
    "print('splited string is =',a)\n",
    "print('joined string is =',b)\n"
   ]
  },
  {
   "cell_type": "code",
   "execution_count": 30,
   "metadata": {},
   "outputs": [
    {
     "name": "stdout",
     "output_type": "stream",
     "text": [
      "yes the give number 10101000011 is binary\n"
     ]
    }
   ],
   "source": [
    "# qn=4\n",
    "def binary(string):\n",
    "\n",
    "    a=set(string)\n",
    "\n",
    "    b={'0','1'}\n",
    "\n",
    "    if a==b or b=={'0'} or b=={'1'}:\n",
    "        print('yes the give number',string,'is binary')\n",
    "    else:\n",
    "        print('the give number',string ,'is not binary')\n",
    "\n",
    "string='10101000011'\n",
    "binary(string)"
   ]
  },
  {
   "cell_type": "code",
   "execution_count": 33,
   "metadata": {},
   "outputs": [
    {
     "data": {
      "text/plain": [
       "['in', 'for', 'enrolled', 'Assignment', 'program', 'batch']"
      ]
     },
     "execution_count": 33,
     "metadata": {},
     "output_type": "execute_result"
    }
   ],
   "source": [
    "# qn=5\n",
    "def uncommonwords(A,B):\n",
    "\n",
    "    A=A.split()\n",
    "    B=B.split()\n",
    "    X=[]\n",
    "\n",
    "    for i in B:\n",
    "        if i not in A:\n",
    "            X.append(i)\n",
    "    for i in A:\n",
    "        if i not in B:\n",
    "            X.append(i)\n",
    "\n",
    "    X=list(set(X))\n",
    "    return X\n",
    "\n",
    "A='Assignment program for FSDS 2.0'\n",
    "B='enrolled in FSDS 2.0 batch'\n",
    "\n",
    "uncommonwords(A,B)"
   ]
  },
  {
   "cell_type": "code",
   "execution_count": 40,
   "metadata": {},
   "outputs": [
    {
     "data": {
      "text/plain": [
       "{'S'}"
      ]
     },
     "execution_count": 40,
     "metadata": {},
     "output_type": "execute_result"
    }
   ],
   "source": [
    "# qn=6\n",
    "def duplicate_chars(string):\n",
    "\n",
    "    duplicate=set()\n",
    "    unique=set()\n",
    "\n",
    "    for i in string:\n",
    "        if i in unique:\n",
    "            duplicate.add(i)\n",
    "        else:\n",
    "            unique.add(i)\n",
    "    return duplicate\n",
    "\n",
    "duplicate_chars('FSDS 2.0')\n"
   ]
  },
  {
   "cell_type": "code",
   "execution_count": 47,
   "metadata": {},
   "outputs": [
    {
     "name": "stdout",
     "output_type": "stream",
     "text": [
      "string contain special char\n"
     ]
    }
   ],
   "source": [
    "# qn=7\n",
    "import string\n",
    "\n",
    "def special_char(word):\n",
    "    for i in word:\n",
    "        if i in string.punctuation:\n",
    "            print('string contain special char')\n",
    "            return\n",
    "    print('string have no special char')\n",
    "\n",
    "special_char('FSDS 2.0')"
   ]
  },
  {
   "cell_type": "code",
   "execution_count": null,
   "metadata": {},
   "outputs": [],
   "source": []
  }
 ],
 "metadata": {
  "kernelspec": {
   "display_name": "Python 3",
   "language": "python",
   "name": "python3"
  },
  "language_info": {
   "codemirror_mode": {
    "name": "ipython",
    "version": 3
   },
   "file_extension": ".py",
   "mimetype": "text/x-python",
   "name": "python",
   "nbconvert_exporter": "python",
   "pygments_lexer": "ipython3",
   "version": "3.10.11"
  },
  "orig_nbformat": 4
 },
 "nbformat": 4,
 "nbformat_minor": 2
}
