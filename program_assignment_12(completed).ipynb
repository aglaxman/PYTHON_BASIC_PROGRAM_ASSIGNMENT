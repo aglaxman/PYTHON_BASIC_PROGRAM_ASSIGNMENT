{
 "cells": [
  {
   "cell_type": "code",
   "execution_count": 9,
   "metadata": {},
   "outputs": [
    {
     "name": "stdout",
     "output_type": "stream",
     "text": [
      "the original dictionary is : {'a': [22, 4, 5, 2], 'b': [10, 9, 0, 7], 'c': [6, 12, 10, 1], 'd': [5, 2, 8, 22]}\n",
      "the unique values list is: [0, 1, 2, 4, 5, 6, 7, 8, 9, 10, 12, 22]\n"
     ]
    }
   ],
   "source": [
    "# qn=1\n",
    "dict={\n",
    "    'a':[22,4,5,2],\n",
    "    'b':[10,9,0,7],\n",
    "    'c':[6,12,10,1],\n",
    "    'd':[5,2,8,22]\n",
    "}\n",
    "\n",
    "print('the original dictionary is :' ,dict)\n",
    "\n",
    "unique=list(sorted({ele for val in dict.values() for ele in val }))\n",
    "\n",
    "print('the unique values list is:', unique)"
   ]
  },
  {
   "cell_type": "code",
   "execution_count": 5,
   "metadata": {},
   "outputs": [
    {
     "data": {
      "text/plain": [
       "359"
      ]
     },
     "execution_count": 5,
     "metadata": {},
     "output_type": "execute_result"
    }
   ],
   "source": [
    "\n",
    "# qn=2\n",
    "def sum_of_values(dict):\n",
    "    A=[]\n",
    "\n",
    "    for i in dict:\n",
    "        A.append(dict[i])\n",
    "    total=sum(A)\n",
    "\n",
    "    return total\n",
    "\n",
    "dict={  'a':300,'b':39,'c':20}\n",
    "sum_of_values(dict)\n"
   ]
  },
  {
   "cell_type": "code",
   "execution_count": 3,
   "metadata": {},
   "outputs": [
    {
     "name": "stdout",
     "output_type": "stream",
     "text": [
      "{'a': 1, 'b': 2, 'c': 3, 'd': 4, 'e': 5, 'f': 6}\n"
     ]
    }
   ],
   "source": [
    "# qn=3\n",
    "def Merge(dict1,dict2):\n",
    "    return dict1 | dict2\n",
    "dict1={'a':1,'b':2,'c':3}\n",
    "dict2={'d':4,'e':5,'f':6}\n",
    "\n",
    "dict3=(Merge(dict1,dict2))\n",
    "print(dict3)\n"
   ]
  },
  {
   "cell_type": "code",
   "execution_count": 2,
   "metadata": {},
   "outputs": [
    {
     "name": "stdout",
     "output_type": "stream",
     "text": [
      "dictionary is  {'a': 1, 'b': 2, 'c': 3, 'd': 4}\n"
     ]
    }
   ],
   "source": [
    "def convert(A,D):\n",
    "    D=dict(A)\n",
    "    return D\n",
    "\n",
    "A=[('a',1),('b',2),('c',3),('d',4)]\n",
    "D={}\n",
    "print('dictionary is ', convert(A,D))\n"
   ]
  },
  {
   "cell_type": "code",
   "execution_count": 17,
   "metadata": {},
   "outputs": [
    {
     "name": "stdout",
     "output_type": "stream",
     "text": [
      "inserted dictionary: OrderedDict([('d', 4), ('a', 1), ('b', 2), ('c', 3)])\n"
     ]
    }
   ],
   "source": [
    "#qn=5\n",
    "from collections import OrderedDict\n",
    "insertion_dict=OrderedDict([('a',1),('b',2),('c',3)])\n",
    "\n",
    "insertion_dict.update({'d':4})\n",
    "insertion_dict.move_to_end('d',last=False)\n",
    "\n",
    "print('inserted dictionary:',insertion_dict)"
   ]
  },
  {
   "cell_type": "code",
   "execution_count": 20,
   "metadata": {},
   "outputs": [
    {
     "data": {
      "text/plain": [
       "'True'"
      ]
     },
     "execution_count": 20,
     "metadata": {},
     "output_type": "execute_result"
    }
   ],
   "source": [
    "# qn=6\n",
    "from collections import OrderedDict\n",
    "\n",
    "def checkOrder(input,pattern):\n",
    "\n",
    "    dict=OrderedDict.fromkeys(input)\n",
    "\n",
    "    x=0\n",
    "    for key,value in dict.items():\n",
    "        if (key==pattern[x]):\n",
    "            x=x+1\n",
    "\n",
    "        if (x==(len(pattern))):\n",
    "            return 'True'\n",
    "        \n",
    "    return 'False'\n",
    "\n",
    "input='FSDS 2.0'\n",
    "pattern ='FS'\n",
    "checkOrder(input,pattern)"
   ]
  },
  {
   "cell_type": "code",
   "execution_count": 22,
   "metadata": {},
   "outputs": [
    {
     "name": "stdout",
     "output_type": "stream",
     "text": [
      "{'a': 1, 'b': 2, 'c': 3, 'd': 4, 'e': 5}\n"
     ]
    }
   ],
   "source": [
    "# qn=7\n",
    "dict={'e':5,'a':1,'d':4,'b':2,'c':3}\n",
    "\n",
    "keys=list(dict.keys())\n",
    "keys.sort()\n",
    "\n",
    "sorted_dict={i:dict[i] for i in keys}\n",
    "\n",
    "print(sorted_dict)"
   ]
  },
  {
   "cell_type": "code",
   "execution_count": null,
   "metadata": {},
   "outputs": [],
   "source": []
  }
 ],
 "metadata": {
  "kernelspec": {
   "display_name": "Python 3",
   "language": "python",
   "name": "python3"
  },
  "language_info": {
   "codemirror_mode": {
    "name": "ipython",
    "version": 3
   },
   "file_extension": ".py",
   "mimetype": "text/x-python",
   "name": "python",
   "nbconvert_exporter": "python",
   "pygments_lexer": "ipython3",
   "version": "3.10.11"
  },
  "orig_nbformat": 4
 },
 "nbformat": 4,
 "nbformat_minor": 2
}
