{
 "cells": [
  {
   "cell_type": "code",
   "execution_count": 20,
   "metadata": {},
   "outputs": [
    {
     "name": "stdout",
     "output_type": "stream",
     "text": [
      "D:- ['100', '150', '180']\n",
      "18,22,24,"
     ]
    }
   ],
   "source": [
    "# qn=1\n",
    "import math\n",
    "D=input().split(',')\n",
    "C,H=50,30\n",
    "print('D:-',D)\n",
    "for i in D:\n",
    "    B=int(i)\n",
    "    Q=math.sqrt((2*C*B)/H)\n",
    "    print(int(Q), end=',')"
   ]
  },
  {
   "cell_type": "code",
   "execution_count": 22,
   "metadata": {},
   "outputs": [
    {
     "name": "stdout",
     "output_type": "stream",
     "text": [
      "[[0, 0, 0, 0, 0], [0, 1, 2, 3, 4], [0, 2, 4, 6, 8]]\n"
     ]
    }
   ],
   "source": [
    "# qn=2\n",
    "row_num=int(input('enter the number of rows'))\n",
    "col_num=int(input('enter the number of columns'))\n",
    "\n",
    "multi_list=[[0 for col in range(col_num)] for row in range(row_num)]\n",
    "\n",
    "for row in range(row_num):\n",
    "    for col in range(col_num):\n",
    "        multi_list[row][col]=row*col\n",
    "print(multi_list)"
   ]
  },
  {
   "cell_type": "code",
   "execution_count": 38,
   "metadata": {},
   "outputs": [
    {
     "name": "stdout",
     "output_type": "stream",
     "text": [
      "before sorted : without,hello,bag,world\n",
      "after sorting : bag,hello,without,world\n"
     ]
    }
   ],
   "source": [
    "# qn=3\n",
    "string1=input('enter the string')\n",
    "words=string1.split(',')\n",
    "words.sort()\n",
    "print('before sorted :',string1)\n",
    "print('after sorting :',','.join(words))"
   ]
  },
  {
   "cell_type": "code",
   "execution_count": 50,
   "metadata": {},
   "outputs": [
    {
     "name": "stdout",
     "output_type": "stream",
     "text": [
      "before sorting : hello world and practice makes perfect and hello world again\n",
      "after:  again and hello makes perfect practice world\n"
     ]
    }
   ],
   "source": [
    "# qn=4\n",
    "string1=input('Enter the string')\n",
    "words=string1.split()\n",
    "words.sort()\n",
    "print('before sorting :' ,string1)\n",
    "print('after: ',' '.join(sorted(set(words), key=words.index)))\n",
    "# print(' '.join(words))"
   ]
  },
  {
   "cell_type": "code",
   "execution_count": 52,
   "metadata": {},
   "outputs": [
    {
     "name": "stdout",
     "output_type": "stream",
     "text": [
      "sentence :  hello world! 123\n",
      "alphabates :  10\n",
      "digits :  3\n"
     ]
    }
   ],
   "source": [
    "# qn=5\n",
    "\n",
    "sentence=input('type the sentence')\n",
    "print('sentence : ',sentence)\n",
    "sentence=list(sentence)\n",
    "\n",
    "l ,d =0,0\n",
    "for i in sentence:\n",
    "    if i.isalpha():\n",
    "        l+=1\n",
    "    if i.isdigit():\n",
    "        d+=1\n",
    "    else:\n",
    "        pass\n",
    "\n",
    "print('alphabates : ',l)\n",
    "print('digits : ', d)"
   ]
  },
  {
   "cell_type": "code",
   "execution_count": 62,
   "metadata": {},
   "outputs": [
    {
     "name": "stdout",
     "output_type": "stream",
     "text": [
      "['ABd1234@1', 'a F1#', '2w3E*', '2We3345']\n",
      "Valid Password\n",
      "Not a Valid Password\n"
     ]
    }
   ],
   "source": [
    "import re\n",
    "p= input(\"Input your password\")\n",
    "words=p.split(',')\n",
    "print(words)\n",
    "for w in words:\n",
    "    x = True\n",
    "    while x:  \n",
    "        if (len(w)<6 or len(w)>12):\n",
    "            break\n",
    "        elif not re.search(\"[a-z]\",w):\n",
    "            break\n",
    "        elif not re.search(\"[0-9]\",w):\n",
    "            break\n",
    "        elif not re.search(\"[A-Z]\",w):\n",
    "            break\n",
    "        elif not re.search(\"[$#@]\",w):\n",
    "            break\n",
    "        elif re.search(\"\\s\",w):\n",
    "            break\n",
    "        else:\n",
    "            print(\"Valid Password\")\n",
    "            x=False\n",
    "            break\n",
    "\n",
    "if x:\n",
    "    print(\"Not a Valid Password\")"
   ]
  },
  {
   "cell_type": "code",
   "execution_count": 74,
   "metadata": {},
   "outputs": [
    {
     "name": "stdout",
     "output_type": "stream",
     "text": [
      "['ABd1234@1', 'a F1#', '2w3E*', '2We3345']\n",
      "valid password is: ABd1234@1\n"
     ]
    }
   ],
   "source": [
    "# qn=6\n",
    "import re\n",
    "p= input(\"Input your password\")\n",
    "words=p.split(',')\n",
    "print(words)\n",
    "for w in words:\n",
    "    x = True\n",
    "    while x:  \n",
    "        if (len(w)<6 or len(w)>12):\n",
    "            break\n",
    "        elif not re.search(\"[a-z]\",w):\n",
    "            break\n",
    "        elif not re.search(\"[0-9]\",w):\n",
    "            break\n",
    "        elif not re.search(\"[A-Z]\",w):\n",
    "            break\n",
    "        elif not re.search(\"[$#@]\",w):\n",
    "            break\n",
    "        elif re.search(\"\\s\",w):\n",
    "            break\n",
    "        else:\n",
    "            print('valid password is:',w)\n",
    "            x=False\n",
    "            break"
   ]
  },
  {
   "cell_type": "code",
   "execution_count": null,
   "metadata": {},
   "outputs": [],
   "source": []
  }
 ],
 "metadata": {
  "kernelspec": {
   "display_name": "Python 3",
   "language": "python",
   "name": "python3"
  },
  "language_info": {
   "codemirror_mode": {
    "name": "ipython",
    "version": 3
   },
   "file_extension": ".py",
   "mimetype": "text/x-python",
   "name": "python",
   "nbconvert_exporter": "python",
   "pygments_lexer": "ipython3",
   "version": "3.10.11"
  },
  "orig_nbformat": 4
 },
 "nbformat": 4,
 "nbformat_minor": 2
}
