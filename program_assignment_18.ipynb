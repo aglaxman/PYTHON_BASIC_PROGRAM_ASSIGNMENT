{
 "cells": [
  {
   "cell_type": "code",
   "execution_count": 3,
   "metadata": {},
   "outputs": [
    {
     "name": "stdout",
     "output_type": "stream",
     "text": [
      "[1, 2, 123]\n"
     ]
    }
   ],
   "source": [
    "# qn=1\n",
    "l = [1, 2, 'aasf', '1', '123', 123]\n",
    "\n",
    "def filter_list(l):\n",
    "    new_list = []\n",
    "    for x in l:\n",
    "        if type(x) == int:\n",
    "            new_list.append(x)\n",
    "    return new_list\n",
    "\n",
    "print(filter_list(l))"
   ]
  },
  {
   "cell_type": "code",
   "execution_count": 4,
   "metadata": {},
   "outputs": [
    {
     "name": "stdout",
     "output_type": "stream",
     "text": [
      "eSrEvEr\n",
      "DLROw OLLEh\n",
      "RADAr\n"
     ]
    }
   ],
   "source": [
    "# qn=2\n",
    "def reverse(str):\n",
    "    str = str[::-1]\n",
    "    return str.swapcase()\n",
    "    \n",
    "print(reverse('ReVeRsE'))\n",
    "\n",
    "print(reverse('Hello World'))\n",
    "\n",
    "print(reverse('Radar'))\n"
   ]
  },
  {
   "cell_type": "code",
   "execution_count": 5,
   "metadata": {},
   "outputs": [
    {
     "name": "stdout",
     "output_type": "stream",
     "text": [
      "1\n",
      "[2, 3, 4, 5]\n",
      "6\n"
     ]
    }
   ],
   "source": [
    "# qn=3\n",
    "lst = [1, 2, 3, 4, 5, 6]\n",
    "first ,*middle,last = lst\n",
    "print(first)\n",
    "print(middle)\n",
    "print(last)"
   ]
  },
  {
   "cell_type": "code",
   "execution_count": 6,
   "metadata": {},
   "outputs": [
    {
     "name": "stdout",
     "output_type": "stream",
     "text": [
      "Factorial of 1 is 1\n"
     ]
    }
   ],
   "source": [
    "# qn=4\n",
    "def factorial(n):     \n",
    "    if n == 0:\n",
    "        return 1    \n",
    "    return n * factorial(n-1)\n",
    "\n",
    "num = int(input('enter a number :'))\n",
    "print(\"Factorial of\", num, \"is\", factorial(num))"
   ]
  },
  {
   "cell_type": "code",
   "execution_count": null,
   "metadata": {},
   "outputs": [],
   "source": []
  }
 ],
 "metadata": {
  "kernelspec": {
   "display_name": "Python 3",
   "language": "python",
   "name": "python3"
  },
  "language_info": {
   "codemirror_mode": {
    "name": "ipython",
    "version": 3
   },
   "file_extension": ".py",
   "mimetype": "text/x-python",
   "name": "python",
   "nbconvert_exporter": "python",
   "pygments_lexer": "ipython3",
   "version": "3.10.11"
  },
  "orig_nbformat": 4
 },
 "nbformat": 4,
 "nbformat_minor": 2
}
