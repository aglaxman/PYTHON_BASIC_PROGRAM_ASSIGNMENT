{
 "cells": [
  {
   "cell_type": "code",
   "execution_count": 4,
   "metadata": {},
   "outputs": [
    {
     "name": "stdout",
     "output_type": "stream",
     "text": [
      "converted value of kilometer to mile :  1.8641130000000001\n"
     ]
    }
   ],
   "source": [
    "# qn=1\n",
    "\n",
    "a=float(input(\"Enter kilometer\"))\n",
    "\n",
    "# 1 kilometer = 0.621371 miles\n",
    "\n",
    "conversion=a*0.621371\n",
    "print(\"converted value of kilometer to mile : \",conversion)"
   ]
  },
  {
   "cell_type": "code",
   "execution_count": 5,
   "metadata": {},
   "outputs": [
    {
     "name": "stdout",
     "output_type": "stream",
     "text": [
      "converted value of celsius to fahrenheit is :  132.8\n"
     ]
    }
   ],
   "source": [
    "# qn=2\n",
    "a=float(input(\"Enter the temp in degree celsius\"))\n",
    "\n",
    "# formula for conversion of celsius to fahrenheit is = (9/5)*c + 32\n",
    "\n",
    "conversion=(1.8*a) + 32\n",
    "print(\"converted value of celsius to fahrenheit is : \",conversion)"
   ]
  },
  {
   "cell_type": "code",
   "execution_count": 6,
   "metadata": {},
   "outputs": [
    {
     "name": "stdout",
     "output_type": "stream",
     "text": [
      "     June 2022\n",
      "Mo Tu We Th Fr Sa Su\n",
      "       1  2  3  4  5\n",
      " 6  7  8  9 10 11 12\n",
      "13 14 15 16 17 18 19\n",
      "20 21 22 23 24 25 26\n",
      "27 28 29 30\n",
      "\n"
     ]
    }
   ],
   "source": [
    "#qn=3\n",
    "import calendar\n",
    "# Enter the month and year  \n",
    "yy = int(input(\"Enter year: \"))  \n",
    "mm = int(input(\"Enter month: \"))  \n",
    "  \n",
    "# display the calendar  \n",
    "print(calendar.month(yy,mm)) "
   ]
  },
  {
   "cell_type": "code",
   "execution_count": 9,
   "metadata": {},
   "outputs": [
    {
     "name": "stdout",
     "output_type": "stream",
     "text": [
      "The solution are -22855.5 and 22477.5\n"
     ]
    }
   ],
   "source": [
    "#qn=4\n",
    "a=int(input(\"Enter value A\"))\n",
    "b=int(input(\"Enter value B\"))\n",
    "c=int(input(\"Enter value C\"))\n",
    "\n",
    "# calculate the discriminant\n",
    "\n",
    "d=( (b**2) - (4*a*c) ) ** 1/2\n",
    "\n",
    "# to find two solution\n",
    "\n",
    "sol1=( -b + d )/ 2*a\n",
    "sol2=( -b - d )/ 2*a\n",
    "print(f\"The solution are {sol1} and {sol2}\")"
   ]
  },
  {
   "cell_type": "code",
   "execution_count": 8,
   "metadata": {},
   "outputs": [
    {
     "name": "stdout",
     "output_type": "stream",
     "text": [
      "value of X after swappinng is :  34\n",
      "value of Y after swappinng is :  10\n"
     ]
    }
   ],
   "source": [
    "# qn=5\n",
    "x=10\n",
    "y=34\n",
    "x,y=y,x\n",
    "print(\"value of X after swappinng is : \",x)\n",
    "print(\"value of Y after swappinng is : \",y)"
   ]
  }
 ],
 "metadata": {
  "kernelspec": {
   "display_name": "Python 3.10.7 64-bit (microsoft store)",
   "language": "python",
   "name": "python3"
  },
  "language_info": {
   "codemirror_mode": {
    "name": "ipython",
    "version": 3
   },
   "file_extension": ".py",
   "mimetype": "text/x-python",
   "name": "python",
   "nbconvert_exporter": "python",
   "pygments_lexer": "ipython3",
   "version": "3.10.10"
  },
  "orig_nbformat": 4,
  "vscode": {
   "interpreter": {
    "hash": "f03c1f92f8008d1e912d31b0d055bf5caa90187be258b19dbd5d5d100d20d019"
   }
  }
 },
 "nbformat": 4,
 "nbformat_minor": 2
}
