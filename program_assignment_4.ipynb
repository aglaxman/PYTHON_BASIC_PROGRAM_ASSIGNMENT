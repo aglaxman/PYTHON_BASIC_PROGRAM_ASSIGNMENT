{
 "cells": [
  {
   "cell_type": "code",
   "execution_count": 11,
   "metadata": {},
   "outputs": [
    {
     "name": "stdout",
     "output_type": "stream",
     "text": [
      "factorial of  5 is 120\n"
     ]
    }
   ],
   "source": [
    "# qn=1\n",
    "num=int(input('Enter a number:'))\n",
    "factorial=1\n",
    "if num>0:\n",
    "    for i in range(1,num+1):\n",
    "        factorial=factorial * i\n",
    "    print('factorial of ',num,'is',factorial)\n",
    "elif num==0:\n",
    "    print('factorial of 0 is 1')\n",
    "else:\n",
    "    print('negative number does not have factorials')\n",
    "    "
   ]
  },
  {
   "cell_type": "code",
   "execution_count": 14,
   "metadata": {},
   "outputs": [
    {
     "name": "stdout",
     "output_type": "stream",
     "text": [
      "4 x 1 = 4\n",
      "4 x 2 = 8\n",
      "4 x 3 = 12\n",
      "4 x 4 = 16\n",
      "4 x 5 = 20\n",
      "4 x 6 = 24\n",
      "4 x 7 = 28\n",
      "4 x 8 = 32\n",
      "4 x 9 = 36\n",
      "4 x 10 = 40\n"
     ]
    }
   ],
   "source": [
    "# qn=2\n",
    "num=int(input('Enter the number:'))\n",
    "for count in range(1,11):\n",
    "    print(num,'x',count,'=',num*count)"
   ]
  },
  {
   "cell_type": "code",
   "execution_count": 4,
   "metadata": {},
   "outputs": [
    {
     "name": "stdout",
     "output_type": "stream",
     "text": [
      "0 1 1 2 3 5 8 13 21 34 "
     ]
    }
   ],
   "source": [
    "# qn=3\n",
    "n_number=int(input('Enter number'))\n",
    "n1,n2=0,1\n",
    "\n",
    "for i in range(n_number):\n",
    "    print(n1, end=' ')\n",
    "\n",
    "    n3=n1+n2\n",
    "\n",
    "    n1=n2\n",
    "    n2=n3"
   ]
  },
  {
   "cell_type": "code",
   "execution_count": 13,
   "metadata": {},
   "outputs": [
    {
     "name": "stdout",
     "output_type": "stream",
     "text": [
      "123 is not armstrong number\n"
     ]
    }
   ],
   "source": [
    "# qn=4\n",
    "num=int(input('enter number'))\n",
    "n1=len(str(num))\n",
    "sum=0\n",
    "temp=num\n",
    "while temp>0:\n",
    "    digit=temp%10\n",
    "    sum=sum + digit**n1\n",
    "    temp= temp//10\n",
    "if num==sum:\n",
    "    print(num, 'is armstrong number')\n",
    "else:\n",
    "    print(num,'is not armstrong number')\n"
   ]
  },
  {
   "cell_type": "code",
   "execution_count": 21,
   "metadata": {},
   "outputs": [
    {
     "name": "stdout",
     "output_type": "stream",
     "text": [
      "in interval of  100 to 500\n",
      "153 is armstrong number\n",
      "370 is armstrong number\n",
      "371 is armstrong number\n",
      "407 is armstrong number\n"
     ]
    }
   ],
   "source": [
    "# qn=5\n",
    "num1=int(input('enter starting number'))\n",
    "num2=int(input('enter ending number'))\n",
    "print('in interval of ',num1,'to',num2 )\n",
    "for i in range(num1,num2):\n",
    "    n1=len(str(i))\n",
    "    sum=0\n",
    "    temp=i\n",
    "    while temp>0:\n",
    "        digit=temp%10\n",
    "        sum=sum+digit**n1\n",
    "        temp=temp//10\n",
    "    if i==sum:\n",
    "        print(i,'is armstrong number')\n",
    "    "
   ]
  },
  {
   "cell_type": "code",
   "execution_count": 12,
   "metadata": {},
   "outputs": [
    {
     "name": "stdout",
     "output_type": "stream",
     "text": [
      "2 + 3 = 5\n"
     ]
    }
   ],
   "source": [
    "# qn=6\n",
    "num1=int(input('Enter the numbeer A :'))\n",
    "num2=int(input('Enter the numbeer B :'))\n",
    "if num1>0:\n",
    "    if num2>0:\n",
    "        print ( num1,'+',num2,'=',num1+num2 )\n",
    "    else:\n",
    "        print('Enter natural number:')\n",
    "else:\n",
    "    print('Enter natural number')"
   ]
  },
  {
   "cell_type": "code",
   "execution_count": null,
   "metadata": {},
   "outputs": [],
   "source": []
  }
 ],
 "metadata": {
  "kernelspec": {
   "display_name": "Python 3",
   "language": "python",
   "name": "python3"
  },
  "language_info": {
   "codemirror_mode": {
    "name": "ipython",
    "version": 3
   },
   "file_extension": ".py",
   "mimetype": "text/x-python",
   "name": "python",
   "nbconvert_exporter": "python",
   "pygments_lexer": "ipython3",
   "version": "3.10.10"
  },
  "orig_nbformat": 4,
  "vscode": {
   "interpreter": {
    "hash": "f03c1f92f8008d1e912d31b0d055bf5caa90187be258b19dbd5d5d100d20d019"
   }
  }
 },
 "nbformat": 4,
 "nbformat_minor": 2
}
