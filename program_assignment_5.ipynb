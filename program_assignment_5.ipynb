{
 "cells": [
  {
   "cell_type": "code",
   "execution_count": 33,
   "metadata": {},
   "outputs": [
    {
     "name": "stdout",
     "output_type": "stream",
     "text": [
      "299 is LCM OF 23 & 13\n"
     ]
    }
   ],
   "source": [
    "# qn=1\n",
    "num1=int(input('enter num1'))\n",
    "num2=int(input('enter num2'))\n",
    "for i in range(max(num1,num2),1+(num1*num2)):\n",
    "    if i%num1==i%num2==0:\n",
    "        print(i,'is LCM OF',num1,'&',num2)\n",
    "        break"
   ]
  },
  {
   "cell_type": "code",
   "execution_count": 25,
   "metadata": {},
   "outputs": [
    {
     "name": "stdout",
     "output_type": "stream",
     "text": [
      "HCF of 54 & 24 is 6\n"
     ]
    }
   ],
   "source": [
    "# qn=2\n",
    "def hcf(x,y):\n",
    "\n",
    "    if x>y:\n",
    "        smaller=y\n",
    "    else:\n",
    "        smaller=x\n",
    "    for i in range(1,smaller+1):\n",
    "        if x%i==y%i==0:\n",
    "            hcf=i\n",
    "    return hcf    \n",
    "\n",
    "\n",
    "x=54\n",
    "y=24\n",
    "print('HCF of',x,'&',y,'is',hcf(x,y)) \n",
    "    "
   ]
  },
  {
   "cell_type": "code",
   "execution_count": 30,
   "metadata": {},
   "outputs": [
    {
     "name": "stdout",
     "output_type": "stream",
     "text": [
      "the decimal value of 344 is\n",
      "0b101011000 in binary\n",
      "0o530 in octal\n",
      "0x158 in hexadecimal\n"
     ]
    }
   ],
   "source": [
    "# qn=3\n",
    "dec=344\n",
    "print('the decimal value of',dec,'is')\n",
    "print(bin(dec),'in binary')\n",
    "print(oct(dec),'in octal')\n",
    "print(hex(dec),'in hexadecimal')"
   ]
  },
  {
   "cell_type": "code",
   "execution_count": 32,
   "metadata": {},
   "outputs": [
    {
     "name": "stdout",
     "output_type": "stream",
     "text": [
      "the ASCII value of  p is 112\n"
     ]
    }
   ],
   "source": [
    "c='p'\n",
    "print('the ASCII value of ',c,'is', ord(c))"
   ]
  },
  {
   "cell_type": "code",
   "execution_count": 13,
   "metadata": {},
   "outputs": [
    {
     "name": "stdout",
     "output_type": "stream",
     "text": [
      "A =  4.0\n",
      "B =  4.0\n",
      "choose any operater\n",
      "a) Addition     b) substract\n",
      "c) multiply     d) divide\n",
      "operation\n",
      "the addition of 4.0 & 4.0  is = 8.0\n"
     ]
    }
   ],
   "source": [
    "# qn=5\n",
    "n1=float(input(\"Enter the value of A\"))\n",
    "print('A = ', n1)\n",
    "n2=float(input(\"Enter the value of B\"))\n",
    "print('B = ',n2)\n",
    "print('choose any operater')\n",
    "print('a) Addition','   ','b) substract')\n",
    "print('c) multiply','   ','d) divide')\n",
    "\n",
    "choice=input(\"Enter the choise (a/b/c/d)\")\n",
    "print('operation')\n",
    "\n",
    "if choice=='a':\n",
    "    print('the addition of',n1 ,'&',n2 ,' is =', n1+n2)\n",
    "\n",
    "elif choice=='b':\n",
    "\n",
    "  print('the substracrion of',n1 ,'&',n2 ,' is =', n1-n2)\n",
    "elif choice=='c':\n",
    "\n",
    "    print('the multipication of',n1 ,'&',n2 ,' is =', n1*n2)\n",
    "            \n",
    "elif choice=='d' :\n",
    "   print('the division of',n1 ,'&',n2 ,' is =', n1/n2)\n",
    "\n",
    "else:\n",
    "   \n",
    "   print('enter a vaild opertor')"
   ]
  },
  {
   "cell_type": "code",
   "execution_count": null,
   "metadata": {},
   "outputs": [],
   "source": []
  }
 ],
 "metadata": {
  "kernelspec": {
   "display_name": "Python 3",
   "language": "python",
   "name": "python3"
  },
  "language_info": {
   "codemirror_mode": {
    "name": "ipython",
    "version": 3
   },
   "file_extension": ".py",
   "mimetype": "text/x-python",
   "name": "python",
   "nbconvert_exporter": "python",
   "pygments_lexer": "ipython3",
   "version": "3.10.11"
  },
  "orig_nbformat": 4
 },
 "nbformat": 4,
 "nbformat_minor": 2
}
