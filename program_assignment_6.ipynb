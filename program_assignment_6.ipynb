{
 "cells": [
  {
   "cell_type": "code",
   "execution_count": 4,
   "metadata": {},
   "outputs": [
    {
     "name": "stdout",
     "output_type": "stream",
     "text": [
      "120\n"
     ]
    }
   ],
   "source": [
    "# qn=2\n",
    "def factorial(n):\n",
    "    if n==0 or n==1:\n",
    "        return 1\n",
    "    else:\n",
    "        return n * factorial(n-1)\n",
    "print(factorial(5))"
   ]
  },
  {
   "cell_type": "code",
   "execution_count": 1,
   "metadata": {},
   "outputs": [
    {
     "name": "stdout",
     "output_type": "stream",
     "text": [
      "fibonacci series: \n",
      "0\n",
      "1\n",
      "1\n",
      "2\n",
      "3\n",
      "5\n",
      "8\n",
      "13\n",
      "21\n"
     ]
    }
   ],
   "source": [
    "# qn=1\n",
    "def fibonacci(n):\n",
    "   if n<=1:\n",
    "      return n\n",
    "   else:\n",
    "      return(fibonacci(n-1) + fibonacci(n-2))\n",
    "n=9\n",
    "\n",
    "if n<=0:\n",
    "   print('please enter a postive number')\n",
    "else:\n",
    "   print('fibonacci series: ')\n",
    "   for i in range(n):\n",
    "      print(fibonacci(i))"
   ]
  },
  {
   "cell_type": "code",
   "execution_count": 12,
   "metadata": {},
   "outputs": [
    {
     "name": "stdout",
     "output_type": "stream",
     "text": [
      "Height : 1.5 m\n",
      "Weight : 50.0 kg\n",
      "BMI = 22.22222222222222\n",
      "your are healthy\n"
     ]
    }
   ],
   "source": [
    "# qn=3\n",
    "def BMI(height,weight):\n",
    "\n",
    "    bmi=(weight)/(height)**2\n",
    "    return bmi\n",
    "\n",
    "height=float(input('enter your height in meter'))\n",
    "print('Height :', height,'m')\n",
    "weight=float(input('enter your weight in kilogram'))\n",
    "print('Weight :',weight,'kg')\n",
    "\n",
    "bmi=BMI(height,weight)\n",
    "\n",
    "print('BMI =',bmi)\n",
    "\n",
    "if bmi<18.5:\n",
    "    print('your are under weight')\n",
    "elif bmi >=18.5 and bmi<24.9:\n",
    "    print('your are healthy')\n",
    "elif bmi>=24.5 and bmi<30:\n",
    "    print('you are overweight')\n",
    "elif bmi>=30:\n",
    "    print('your suffering from obesity')"
   ]
  },
  {
   "cell_type": "code",
   "execution_count": 22,
   "metadata": {},
   "outputs": [
    {
     "name": "stdout",
     "output_type": "stream",
     "text": [
      "1.146128035678238\n"
     ]
    }
   ],
   "source": [
    "# qn=4\n",
    "import math\n",
    "print(math.log10(14))"
   ]
  },
  {
   "cell_type": "code",
   "execution_count": 30,
   "metadata": {},
   "outputs": [
    {
     "name": "stdout",
     "output_type": "stream",
     "text": [
      "n =  5\n",
      "the cube sum of from 1 to  5 natural number is:  125\n"
     ]
    }
   ],
   "source": [
    "# qn=5\n",
    "n1=int(input('enter the nth number'))\n",
    "print('n = ',n1)\n",
    "sum=0\n",
    "for i in range(1,n1+1):\n",
    "    i=i**3\n",
    "    sum=sum+i\n",
    "print('the cube sum of from 1 to ',n1,'natural number is: ',i)"
   ]
  }
 ],
 "metadata": {
  "kernelspec": {
   "display_name": "Python 3",
   "language": "python",
   "name": "python3"
  },
  "language_info": {
   "codemirror_mode": {
    "name": "ipython",
    "version": 3
   },
   "file_extension": ".py",
   "mimetype": "text/x-python",
   "name": "python",
   "nbconvert_exporter": "python",
   "pygments_lexer": "ipython3",
   "version": "3.10.11"
  },
  "orig_nbformat": 4
 },
 "nbformat": 4,
 "nbformat_minor": 2
}
