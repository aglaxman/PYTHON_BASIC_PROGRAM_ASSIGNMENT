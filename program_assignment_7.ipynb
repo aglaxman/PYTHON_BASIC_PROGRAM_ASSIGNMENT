{
 "cells": [
  {
   "cell_type": "code",
   "execution_count": 7,
   "metadata": {},
   "outputs": [
    {
     "name": "stdout",
     "output_type": "stream",
     "text": [
      "Sum of all the elements of an array is  15\n"
     ]
    }
   ],
   "source": [
    "# qn=1\n",
    "from array import *\n",
    "vals=array('i',[1,2,3,4,5])\n",
    "sum=0\n",
    "for i in vals:\n",
    "    sum=sum+i\n",
    "print('Sum of all the elements of an array is ',sum)"
   ]
  },
  {
   "cell_type": "code",
   "execution_count": 14,
   "metadata": {},
   "outputs": [
    {
     "name": "stdout",
     "output_type": "stream",
     "text": [
      "Greatest element in the array is : 5\n"
     ]
    }
   ],
   "source": [
    "# qn=2\n",
    "from array import *\n",
    "vals=array('i',[1,2,3,4,5])\n",
    "print('Greatest element in the array is :',max(vals))"
   ]
  },
  {
   "cell_type": "code",
   "execution_count": 17,
   "metadata": {},
   "outputs": [
    {
     "name": "stdout",
     "output_type": "stream",
     "text": [
      "array('i', [5, 4, 3, 2, 1])\n"
     ]
    }
   ],
   "source": [
    "# qn=3\n",
    "from array import *\n",
    "vals=array('i',[1,2,3,4,5])\n",
    "vals.reverse()\n",
    "reversed=array(vals.typecode,[])\n",
    "for i in vals:\n",
    "    reversed.append(i)\n",
    "print(reversed)"
   ]
  },
  {
   "cell_type": "code",
   "execution_count": 22,
   "metadata": {},
   "outputs": [
    {
     "name": "stdout",
     "output_type": "stream",
     "text": [
      "4 5 6 1 2 3 "
     ]
    }
   ],
   "source": [
    "# qn=4\n",
    "\n",
    "arr=[1,2,3,4,5,6]\n",
    "n=len(arr)\n",
    "k=3\n",
    "x=arr[:k]\n",
    "y=arr[k:]\n",
    "y.extend(x)\n",
    "for i in y:\n",
    "    print(i , end=' ')"
   ]
  },
  {
   "cell_type": "code",
   "execution_count": 27,
   "metadata": {},
   "outputs": [
    {
     "name": "stdout",
     "output_type": "stream",
     "text": [
      "True\n"
     ]
    }
   ],
   "source": [
    "# qn=5\n",
    "def ismonotonic(a):\n",
    "    x,y=[],[]\n",
    "    x.extend(a)\n",
    "    y.extend(a)\n",
    "    x.sort()\n",
    "    y.sort(reverse=True)\n",
    "\n",
    "    if x==a or y==a:\n",
    "        return True\n",
    "    return False\n",
    "\n",
    "a=[1,2,3,4,4,5]\n",
    "print(ismonotonic(a))"
   ]
  },
  {
   "cell_type": "code",
   "execution_count": null,
   "metadata": {},
   "outputs": [],
   "source": []
  }
 ],
 "metadata": {
  "kernelspec": {
   "display_name": "Python 3",
   "language": "python",
   "name": "python3"
  },
  "language_info": {
   "codemirror_mode": {
    "name": "ipython",
    "version": 3
   },
   "file_extension": ".py",
   "mimetype": "text/x-python",
   "name": "python",
   "nbconvert_exporter": "python",
   "pygments_lexer": "ipython3",
   "version": "3.10.11"
  },
  "orig_nbformat": 4
 },
 "nbformat": 4,
 "nbformat_minor": 2
}
