{
 "cells": [
  {
   "cell_type": "code",
   "execution_count": 2,
   "metadata": {},
   "outputs": [
    {
     "name": "stdout",
     "output_type": "stream",
     "text": [
      "[17, 15, 4]\n",
      "[5, 8, 10]\n",
      "[11, 10, 18]\n"
     ]
    }
   ],
   "source": [
    "# qn=1\n",
    "x=[[12,7,3],\n",
    "   [4,5,6],\n",
    "   [7,8,9]]\n",
    "\n",
    "y=[[5,8,1],\n",
    "   [1,3,4],\n",
    "   [4,2,9]]\n",
    "\n",
    "result=[[0,0,0],\n",
    "        [0,0,0],\n",
    "        [0,0,0]]\n",
    "\n",
    "for i in range(len(x)):\n",
    "    for j in range(len(x[0])):\n",
    "        result[i][j]=x[i][j]+y[i][j]\n",
    "\n",
    "for r in result:\n",
    "    print(r)"
   ]
  },
  {
   "cell_type": "code",
   "execution_count": 4,
   "metadata": {},
   "outputs": [
    {
     "name": "stdout",
     "output_type": "stream",
     "text": [
      "[60, 56, 3]\n",
      "[4, 15, 24]\n",
      "[28, 16, 81]\n"
     ]
    }
   ],
   "source": [
    "# qn=2\n",
    "x=[[12,7,3],\n",
    "   [4,5,6],\n",
    "   [7,8,9]]\n",
    "\n",
    "y=[[5,8,1],\n",
    "   [1,3,4],\n",
    "   [4,2,9]]\n",
    "\n",
    "result=[[0,0,0],\n",
    "        [0,0,0],\n",
    "        [0,0,0]]\n",
    "\n",
    "for i in range(len(x)):\n",
    "    for j in range(len(x[0])):\n",
    "        result[i][j]=x[i][j]*y[i][j]\n",
    "\n",
    "for r in result:\n",
    "    print(r)"
   ]
  },
  {
   "cell_type": "code",
   "execution_count": 7,
   "metadata": {},
   "outputs": [
    {
     "name": "stdout",
     "output_type": "stream",
     "text": [
      "[12, 4, 7]\n",
      "[7, 5, 8]\n"
     ]
    }
   ],
   "source": [
    "# qn=3\n",
    "x=[[12,7],\n",
    "   [4,5],\n",
    "   [7,8]]\n",
    "\n",
    "\n",
    "result=[[0,0,0],\n",
    "        [0,0,0]]\n",
    "\n",
    "for i in range(len(x)):\n",
    "    for j in range(len(x[0])):\n",
    "        result[j][i]=x[i][j]\n",
    "\n",
    "for r in result:\n",
    "    print(r)"
   ]
  },
  {
   "cell_type": "code",
   "execution_count": 20,
   "metadata": {},
   "outputs": [
    {
     "name": "stdout",
     "output_type": "stream",
     "text": [
      "the sorted words are: \n",
      "assignment\n",
      "hello\n",
      "program\n",
      "this\n"
     ]
    }
   ],
   "source": [
    "# qn=4\n",
    "sentance='Hello this program assignment '\n",
    "words=[word.lower() for word in sentance.split()]\n",
    "\n",
    "words.sort()\n",
    "print('the sorted words are: ')\n",
    "for word in words:\n",
    "    print(word) "
   ]
  },
  {
   "cell_type": "code",
   "execution_count": 32,
   "metadata": {},
   "outputs": [
    {
     "name": "stdout",
     "output_type": "stream",
     "text": [
      " heyhowareyou\n"
     ]
    }
   ],
   "source": [
    "# qn=5\n",
    "punctuations=''' !()-[]{ };:'\"\\,<>./?@#$%^&*_~ '''\n",
    "\n",
    "mystr='hey!! , how ** are ^^^^^ you----'\n",
    "\n",
    "no_punctuation=' '\n",
    "\n",
    "for i in mystr:\n",
    "    if i not in punctuations:\n",
    "        no_punctuation = no_punctuation + i\n",
    "\n",
    "print(no_punctuation)"
   ]
  }
 ],
 "metadata": {
  "kernelspec": {
   "display_name": "Python 3",
   "language": "python",
   "name": "python3"
  },
  "language_info": {
   "codemirror_mode": {
    "name": "ipython",
    "version": 3
   },
   "file_extension": ".py",
   "mimetype": "text/x-python",
   "name": "python",
   "nbconvert_exporter": "python",
   "pygments_lexer": "ipython3",
   "version": "3.10.11"
  },
  "orig_nbformat": 4
 },
 "nbformat": 4,
 "nbformat_minor": 2
}
